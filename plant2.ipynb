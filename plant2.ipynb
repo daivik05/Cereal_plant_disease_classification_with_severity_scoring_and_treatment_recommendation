{
  "nbformat": 4,
  "nbformat_minor": 0,
  "metadata": {
    "colab": {
      "provenance": [],
      "include_colab_link": true
    },
    "kernelspec": {
      "name": "python3",
      "display_name": "Python 3"
    },
    "language_info": {
      "name": "python"
    }
  },
  "cells": [
    {
      "cell_type": "markdown",
      "metadata": {
        "id": "view-in-github",
        "colab_type": "text"
      },
      "source": [
        "<a href=\"https://colab.research.google.com/github/daivik05/Cereal_plant_disease_classification_with_severity_scoring_and_treatment_recommendation/blob/main/plant2.ipynb\" target=\"_parent\"><img src=\"https://colab.research.google.com/assets/colab-badge.svg\" alt=\"Open In Colab\"/></a>"
      ]
    },
    {
      "cell_type": "code",
      "execution_count": null,
      "metadata": {
        "colab": {
          "base_uri": "https://localhost:8080/"
        },
        "id": "KnOSebCNjJJZ",
        "outputId": "7e79f8b6-6c22-4843-ef1b-b18c9e199f84"
      },
      "outputs": [
        {
          "output_type": "stream",
          "name": "stdout",
          "text": [
            "Requirement already satisfied: tensorflow in /usr/local/lib/python3.10/dist-packages (2.15.0)\n",
            "Requirement already satisfied: absl-py>=1.0.0 in /usr/local/lib/python3.10/dist-packages (from tensorflow) (1.4.0)\n",
            "Requirement already satisfied: astunparse>=1.6.0 in /usr/local/lib/python3.10/dist-packages (from tensorflow) (1.6.3)\n",
            "Requirement already satisfied: flatbuffers>=23.5.26 in /usr/local/lib/python3.10/dist-packages (from tensorflow) (24.3.25)\n",
            "Requirement already satisfied: gast!=0.5.0,!=0.5.1,!=0.5.2,>=0.2.1 in /usr/local/lib/python3.10/dist-packages (from tensorflow) (0.5.4)\n",
            "Requirement already satisfied: google-pasta>=0.1.1 in /usr/local/lib/python3.10/dist-packages (from tensorflow) (0.2.0)\n",
            "Requirement already satisfied: h5py>=2.9.0 in /usr/local/lib/python3.10/dist-packages (from tensorflow) (3.9.0)\n",
            "Requirement already satisfied: libclang>=13.0.0 in /usr/local/lib/python3.10/dist-packages (from tensorflow) (18.1.1)\n",
            "Requirement already satisfied: ml-dtypes~=0.2.0 in /usr/local/lib/python3.10/dist-packages (from tensorflow) (0.2.0)\n",
            "Requirement already satisfied: numpy<2.0.0,>=1.23.5 in /usr/local/lib/python3.10/dist-packages (from tensorflow) (1.25.2)\n",
            "Requirement already satisfied: opt-einsum>=2.3.2 in /usr/local/lib/python3.10/dist-packages (from tensorflow) (3.3.0)\n",
            "Requirement already satisfied: packaging in /usr/local/lib/python3.10/dist-packages (from tensorflow) (24.0)\n",
            "Requirement already satisfied: protobuf!=4.21.0,!=4.21.1,!=4.21.2,!=4.21.3,!=4.21.4,!=4.21.5,<5.0.0dev,>=3.20.3 in /usr/local/lib/python3.10/dist-packages (from tensorflow) (3.20.3)\n",
            "Requirement already satisfied: setuptools in /usr/local/lib/python3.10/dist-packages (from tensorflow) (67.7.2)\n",
            "Requirement already satisfied: six>=1.12.0 in /usr/local/lib/python3.10/dist-packages (from tensorflow) (1.16.0)\n",
            "Requirement already satisfied: termcolor>=1.1.0 in /usr/local/lib/python3.10/dist-packages (from tensorflow) (2.4.0)\n",
            "Requirement already satisfied: typing-extensions>=3.6.6 in /usr/local/lib/python3.10/dist-packages (from tensorflow) (4.11.0)\n",
            "Requirement already satisfied: wrapt<1.15,>=1.11.0 in /usr/local/lib/python3.10/dist-packages (from tensorflow) (1.14.1)\n",
            "Requirement already satisfied: tensorflow-io-gcs-filesystem>=0.23.1 in /usr/local/lib/python3.10/dist-packages (from tensorflow) (0.36.0)\n",
            "Requirement already satisfied: grpcio<2.0,>=1.24.3 in /usr/local/lib/python3.10/dist-packages (from tensorflow) (1.62.1)\n",
            "Requirement already satisfied: tensorboard<2.16,>=2.15 in /usr/local/lib/python3.10/dist-packages (from tensorflow) (2.15.2)\n",
            "Requirement already satisfied: tensorflow-estimator<2.16,>=2.15.0 in /usr/local/lib/python3.10/dist-packages (from tensorflow) (2.15.0)\n",
            "Requirement already satisfied: keras<2.16,>=2.15.0 in /usr/local/lib/python3.10/dist-packages (from tensorflow) (2.15.0)\n",
            "Requirement already satisfied: wheel<1.0,>=0.23.0 in /usr/local/lib/python3.10/dist-packages (from astunparse>=1.6.0->tensorflow) (0.43.0)\n",
            "Requirement already satisfied: google-auth<3,>=1.6.3 in /usr/local/lib/python3.10/dist-packages (from tensorboard<2.16,>=2.15->tensorflow) (2.27.0)\n",
            "Requirement already satisfied: google-auth-oauthlib<2,>=0.5 in /usr/local/lib/python3.10/dist-packages (from tensorboard<2.16,>=2.15->tensorflow) (1.2.0)\n",
            "Requirement already satisfied: markdown>=2.6.8 in /usr/local/lib/python3.10/dist-packages (from tensorboard<2.16,>=2.15->tensorflow) (3.6)\n",
            "Requirement already satisfied: requests<3,>=2.21.0 in /usr/local/lib/python3.10/dist-packages (from tensorboard<2.16,>=2.15->tensorflow) (2.31.0)\n",
            "Requirement already satisfied: tensorboard-data-server<0.8.0,>=0.7.0 in /usr/local/lib/python3.10/dist-packages (from tensorboard<2.16,>=2.15->tensorflow) (0.7.2)\n",
            "Requirement already satisfied: werkzeug>=1.0.1 in /usr/local/lib/python3.10/dist-packages (from tensorboard<2.16,>=2.15->tensorflow) (3.0.2)\n",
            "Requirement already satisfied: cachetools<6.0,>=2.0.0 in /usr/local/lib/python3.10/dist-packages (from google-auth<3,>=1.6.3->tensorboard<2.16,>=2.15->tensorflow) (5.3.3)\n",
            "Requirement already satisfied: pyasn1-modules>=0.2.1 in /usr/local/lib/python3.10/dist-packages (from google-auth<3,>=1.6.3->tensorboard<2.16,>=2.15->tensorflow) (0.4.0)\n",
            "Requirement already satisfied: rsa<5,>=3.1.4 in /usr/local/lib/python3.10/dist-packages (from google-auth<3,>=1.6.3->tensorboard<2.16,>=2.15->tensorflow) (4.9)\n",
            "Requirement already satisfied: requests-oauthlib>=0.7.0 in /usr/local/lib/python3.10/dist-packages (from google-auth-oauthlib<2,>=0.5->tensorboard<2.16,>=2.15->tensorflow) (1.3.1)\n",
            "Requirement already satisfied: charset-normalizer<4,>=2 in /usr/local/lib/python3.10/dist-packages (from requests<3,>=2.21.0->tensorboard<2.16,>=2.15->tensorflow) (3.3.2)\n",
            "Requirement already satisfied: idna<4,>=2.5 in /usr/local/lib/python3.10/dist-packages (from requests<3,>=2.21.0->tensorboard<2.16,>=2.15->tensorflow) (3.6)\n",
            "Requirement already satisfied: urllib3<3,>=1.21.1 in /usr/local/lib/python3.10/dist-packages (from requests<3,>=2.21.0->tensorboard<2.16,>=2.15->tensorflow) (2.0.7)\n",
            "Requirement already satisfied: certifi>=2017.4.17 in /usr/local/lib/python3.10/dist-packages (from requests<3,>=2.21.0->tensorboard<2.16,>=2.15->tensorflow) (2024.2.2)\n",
            "Requirement already satisfied: MarkupSafe>=2.1.1 in /usr/local/lib/python3.10/dist-packages (from werkzeug>=1.0.1->tensorboard<2.16,>=2.15->tensorflow) (2.1.5)\n",
            "Requirement already satisfied: pyasn1<0.7.0,>=0.4.6 in /usr/local/lib/python3.10/dist-packages (from pyasn1-modules>=0.2.1->google-auth<3,>=1.6.3->tensorboard<2.16,>=2.15->tensorflow) (0.6.0)\n",
            "Requirement already satisfied: oauthlib>=3.0.0 in /usr/local/lib/python3.10/dist-packages (from requests-oauthlib>=0.7.0->google-auth-oauthlib<2,>=0.5->tensorboard<2.16,>=2.15->tensorflow) (3.2.2)\n"
          ]
        }
      ],
      "source": [
        "import warnings\n",
        "warnings.filterwarnings('ignore')\n",
        "\n",
        "import os\n",
        "import pandas as pd\n",
        "import numpy as np\n",
        "import matplotlib.pyplot as plt\n",
        "%matplotlib inline\n",
        "import seaborn as sns\n",
        "from sklearn.metrics import classification_report , confusion_matrix , accuracy_score , auc\n",
        "from sklearn.model_selection import train_test_split\n",
        "\n",
        "import cv2\n",
        "from google.colab.patches import cv2_imshow\n",
        "from PIL import Image\n",
        "import tensorflow as tf\n",
        "from tensorflow import keras\n",
        "from keras import Sequential\n",
        "from keras.layers import Input, Dense,Conv2D , MaxPooling2D, Flatten,BatchNormalization,Dropout\n",
        "from tensorflow.keras.preprocessing import image_dataset_from_directory\n",
        "import tensorflow_hub as hub\n",
        "\n",
        "from keras.applications import MobileNetV2\n",
        "from keras.applications.vgg19 import VGG19\n",
        "from keras.preprocessing.image import ImageDataGenerator\n",
        "from keras.layers import GlobalAveragePooling2D\n",
        "!pip install tensorflow"
      ]
    },
    {
      "cell_type": "code",
      "source": [
        "repo_name = 'Cereal_plant_disease_classification_with_severity_scoring_and_treatment_recommendation'\n",
        "repo_url = f'https://github.com/daivik05/Cereal_plant_disease_classification_with_severity_scoring_and_treatment_recommendation'  # Replace your_username\n",
        "!git clone $repo_url\n"
      ],
      "metadata": {
        "colab": {
          "base_uri": "https://localhost:8080/"
        },
        "id": "UXe70SMvvlFq",
        "outputId": "4443ffe3-694c-46ac-c1a1-f09d06d07e81"
      },
      "execution_count": null,
      "outputs": [
        {
          "output_type": "stream",
          "name": "stdout",
          "text": [
            "Cloning into 'Cereal_plant_disease_classification_with_severity_scoring_and_treatment_recommendation'...\n",
            "remote: Enumerating objects: 4733, done.\u001b[K\n",
            "remote: Counting objects: 100% (4/4), done.\u001b[K\n",
            "remote: Compressing objects: 100% (4/4), done.\u001b[K\n",
            "remote: Total 4733 (delta 0), reused 4 (delta 0), pack-reused 4729\u001b[K\n",
            "Receiving objects: 100% (4733/4733), 1.59 GiB | 30.41 MiB/s, done.\n",
            "Resolving deltas: 100% (15/15), done.\n",
            "Updating files: 100% (4718/4718), done.\n"
          ]
        }
      ]
    },
    {
      "cell_type": "code",
      "source": [
        "project_dir = f'/content/{repo_name}'\n",
        "%cd $project_dir"
      ],
      "metadata": {
        "colab": {
          "base_uri": "https://localhost:8080/"
        },
        "id": "DvtjAuOlV3rb",
        "outputId": "d6c5babc-bc6e-4cb0-f9ff-79a919123d00"
      },
      "execution_count": null,
      "outputs": [
        {
          "output_type": "stream",
          "name": "stdout",
          "text": [
            "/content/Cereal_plant_disease_classification_with_severity_scoring_and_treatment_recommendation\n"
          ]
        }
      ]
    },
    {
      "cell_type": "code",
      "source": [
        "train_path = 'train/'"
      ],
      "metadata": {
        "id": "n4K69L_pvl3y"
      },
      "execution_count": null,
      "outputs": []
    },
    {
      "cell_type": "code",
      "source": [
        "train_data = tf.keras.preprocessing.image_dataset_from_directory(\n",
        " train_path,\n",
        "    batch_size=256,\n",
        "  image_size=(224,224), shuffle=True\n",
        ")"
      ],
      "metadata": {
        "colab": {
          "base_uri": "https://localhost:8080/"
        },
        "id": "iR-EZBR4vshZ",
        "outputId": "318a8c93-fc64-43b3-fdc8-0f1d5f76398b"
      },
      "execution_count": null,
      "outputs": [
        {
          "output_type": "stream",
          "name": "stdout",
          "text": [
            "Found 4715 files belonging to 3 classes.\n"
          ]
        }
      ]
    },
    {
      "cell_type": "code",
      "source": [
        "datagen = ImageDataGenerator(\n",
        "    rescale=1.0/255.0,\n",
        "    shear_range=0.2,\n",
        "    zoom_range=0.2,\n",
        "    horizontal_flip=True,\n",
        "    validation_split=0.2\n",
        ")"
      ],
      "metadata": {
        "id": "iio_o2SgvvQI"
      },
      "execution_count": null,
      "outputs": []
    },
    {
      "cell_type": "code",
      "source": [
        "train_generator = datagen.flow_from_directory(\n",
        "    train_path,\n",
        "    target_size=(224, 224),\n",
        "    batch_size=32,\n",
        "    class_mode='categorical',\n",
        "    subset='training'\n",
        ")"
      ],
      "metadata": {
        "colab": {
          "base_uri": "https://localhost:8080/"
        },
        "id": "iE_A_7YzvyLg",
        "outputId": "e4885574-19f5-4817-fe2a-8bd25c90c2d5"
      },
      "execution_count": null,
      "outputs": [
        {
          "output_type": "stream",
          "name": "stdout",
          "text": [
            "Found 3773 images belonging to 3 classes.\n"
          ]
        }
      ]
    },
    {
      "cell_type": "code",
      "source": [
        "for img, label in train_generator:\n",
        "    print(\"Training Batch Shapes:\", img.shape, label.shape)\n",
        "    break\n",
        "\n",
        "train_generator.class_indices\n",
        "len(train_data.class_names)\n"
      ],
      "metadata": {
        "colab": {
          "base_uri": "https://localhost:8080/"
        },
        "id": "hTTxnKY-v0UK",
        "outputId": "7efbad90-7b53-405d-a96a-df1251993416"
      },
      "execution_count": null,
      "outputs": [
        {
          "output_type": "stream",
          "name": "stdout",
          "text": [
            "Training Batch Shapes: (32, 224, 224, 3) (32, 3)\n"
          ]
        },
        {
          "output_type": "execute_result",
          "data": {
            "text/plain": [
              "3"
            ]
          },
          "metadata": {},
          "execution_count": 8
        }
      ]
    },
    {
      "cell_type": "code",
      "source": [
        "class_labels = train_data.class_names\n",
        "class_labels"
      ],
      "metadata": {
        "colab": {
          "base_uri": "https://localhost:8080/"
        },
        "id": "cGj8cVYo7saD",
        "outputId": "ba3f0f78-9746-468e-8100-61d344b693f4"
      },
      "execution_count": null,
      "outputs": [
        {
          "output_type": "execute_result",
          "data": {
            "text/plain": [
              "['corn_leaf', 'rice_leaf_diseases', 'wheat_leaf']"
            ]
          },
          "metadata": {},
          "execution_count": 9
        }
      ]
    },
    {
      "cell_type": "code",
      "source": [
        "for img, label in train_generator:\n",
        "    #print(img)\n",
        "    print(label)\n",
        "    break"
      ],
      "metadata": {
        "colab": {
          "base_uri": "https://localhost:8080/"
        },
        "id": "XNl7ug58wCLT",
        "outputId": "1195808f-fd6e-4a3b-f50c-b7d1d7915b6d"
      },
      "execution_count": null,
      "outputs": [
        {
          "output_type": "stream",
          "name": "stdout",
          "text": [
            "[[1. 0. 0.]\n",
            " [1. 0. 0.]\n",
            " [1. 0. 0.]\n",
            " [1. 0. 0.]\n",
            " [1. 0. 0.]\n",
            " [0. 1. 0.]\n",
            " [1. 0. 0.]\n",
            " [1. 0. 0.]\n",
            " [1. 0. 0.]\n",
            " [1. 0. 0.]\n",
            " [1. 0. 0.]\n",
            " [0. 0. 1.]\n",
            " [1. 0. 0.]\n",
            " [1. 0. 0.]\n",
            " [1. 0. 0.]\n",
            " [1. 0. 0.]\n",
            " [1. 0. 0.]\n",
            " [1. 0. 0.]\n",
            " [1. 0. 0.]\n",
            " [0. 1. 0.]\n",
            " [0. 0. 1.]\n",
            " [1. 0. 0.]\n",
            " [1. 0. 0.]\n",
            " [1. 0. 0.]\n",
            " [1. 0. 0.]\n",
            " [1. 0. 0.]\n",
            " [1. 0. 0.]\n",
            " [0. 0. 1.]\n",
            " [1. 0. 0.]\n",
            " [1. 0. 0.]\n",
            " [1. 0. 0.]\n",
            " [1. 0. 0.]]\n"
          ]
        }
      ]
    },
    {
      "cell_type": "code",
      "source": [
        "label[10]\n"
      ],
      "metadata": {
        "colab": {
          "base_uri": "https://localhost:8080/"
        },
        "id": "yEjwMiu77iKg",
        "outputId": "82deea70-e806-4e7b-96a2-b638915ff028"
      },
      "execution_count": null,
      "outputs": [
        {
          "output_type": "execute_result",
          "data": {
            "text/plain": [
              "array([1., 0., 0.], dtype=float32)"
            ]
          },
          "metadata": {},
          "execution_count": 11
        }
      ]
    },
    {
      "cell_type": "code",
      "source": [
        "\n",
        "len(class_labels)"
      ],
      "metadata": {
        "colab": {
          "base_uri": "https://localhost:8080/"
        },
        "id": "ouns3SE5wEVO",
        "outputId": "3271e161-2f41-457f-f401-c8638e0e71de"
      },
      "execution_count": null,
      "outputs": [
        {
          "output_type": "execute_result",
          "data": {
            "text/plain": [
              "3"
            ]
          },
          "metadata": {},
          "execution_count": 12
        }
      ]
    },
    {
      "cell_type": "code",
      "source": [
        "from tensorflow.keras.layers import Concatenate, GlobalAveragePooling2D, Dense, Flatten, Input\n",
        "from tensorflow.keras.models import Model\n",
        "from tensorflow.keras.applications import MobileNetV2\n",
        "\n",
        "base_model = MobileNetV2(input_shape=(224,224,3),\n",
        "                         include_top=False, weights='imagenet')\n",
        "\n",
        "\n",
        "for layer in base_model.layers:\n",
        "    layer.trainable = False\n",
        "\n",
        "classification_input = Input(shape=(224, 224, 3), name='classification_input')\n",
        "percentage_input = Input(shape=(224, 224, 3), name='percentage_input')\n",
        "\n",
        "\n",
        "classification_output = base_model(classification_input)\n",
        "classification_output = GlobalAveragePooling2D()(classification_output)\n",
        "classification_output = Dense(100, activation='relu')(classification_output)\n",
        "classification_output = Dense(100, activation='relu')(classification_output)\n",
        "classification_output = Dense(len(class_labels), activation='softmax')(classification_output)\n",
        "\n",
        "percentage_output = base_model(percentage_input)\n",
        "percentage_output = GlobalAveragePooling2D()(percentage_output)\n",
        "percentage_output = Dense(100, activation='relu')(percentage_output)\n",
        "percentage_output = Dense(100, activation='relu')(percentage_output)\n",
        "percentage_output = Dense(1, activation='sigmoid')(percentage_output)\n",
        "\n",
        "\n",
        "classification_output_flat = Flatten()(classification_output)\n",
        "\n",
        "\n",
        "combined_output = Concatenate()([classification_output_flat, percentage_output])\n",
        "\n",
        "\n",
        "combined_model = Model(inputs=[classification_input, percentage_input], outputs=combined_output)\n",
        "\n",
        "\n",
        "combined_model.compile(optimizer='adam',\n",
        "                       loss=['sparse_categorical_crossentropy', 'binary_crossentropy'],  # Define losses for classification and percentage estimation\n",
        "                       loss_weights=[1.0, 0.5],  # Adjust loss weights as needed\n",
        "                       metrics=['accuracy'])\n",
        "\n",
        "combined_model.summary()\n"
      ],
      "metadata": {
        "colab": {
          "base_uri": "https://localhost:8080/"
        },
        "id": "UFY7oS7GwI7N",
        "outputId": "b6d20928-0340-4a2f-af83-9b1596e67b36"
      },
      "execution_count": null,
      "outputs": [
        {
          "output_type": "stream",
          "name": "stdout",
          "text": [
            "Model: \"model_2\"\n",
            "__________________________________________________________________________________________________\n",
            " Layer (type)                Output Shape                 Param #   Connected to                  \n",
            "==================================================================================================\n",
            " classification_input (Inpu  [(None, 224, 224, 3)]        0         []                            \n",
            " tLayer)                                                                                          \n",
            "                                                                                                  \n",
            " mobilenetv2_1.00_224 (Func  (None, 7, 7, 1280)           2257984   ['classification_input[0][0]',\n",
            " tional)                                                             'percentage_input[0][0]']    \n",
            "                                                                                                  \n",
            " percentage_input (InputLay  [(None, 224, 224, 3)]        0         []                            \n",
            " er)                                                                                              \n",
            "                                                                                                  \n",
            " global_average_pooling2d_1  (None, 1280)                 0         ['mobilenetv2_1.00_224[0][0]']\n",
            " 4 (GlobalAveragePooling2D)                                                                       \n",
            "                                                                                                  \n",
            " dense_45 (Dense)            (None, 100)                  128100    ['global_average_pooling2d_14[\n",
            "                                                                    0][0]']                       \n",
            "                                                                                                  \n",
            " global_average_pooling2d_1  (None, 1280)                 0         ['mobilenetv2_1.00_224[1][0]']\n",
            " 5 (GlobalAveragePooling2D)                                                                       \n",
            "                                                                                                  \n",
            " dense_46 (Dense)            (None, 100)                  10100     ['dense_45[0][0]']            \n",
            "                                                                                                  \n",
            " dense_48 (Dense)            (None, 100)                  128100    ['global_average_pooling2d_15[\n",
            "                                                                    0][0]']                       \n",
            "                                                                                                  \n",
            " dense_47 (Dense)            (None, 3)                    303       ['dense_46[0][0]']            \n",
            "                                                                                                  \n",
            " dense_49 (Dense)            (None, 100)                  10100     ['dense_48[0][0]']            \n",
            "                                                                                                  \n",
            " flatten_2 (Flatten)         (None, 3)                    0         ['dense_47[0][0]']            \n",
            "                                                                                                  \n",
            " dense_50 (Dense)            (None, 1)                    101       ['dense_49[0][0]']            \n",
            "                                                                                                  \n",
            " concatenate_8 (Concatenate  (None, 4)                    0         ['flatten_2[0][0]',           \n",
            " )                                                                   'dense_50[0][0]']            \n",
            "                                                                                                  \n",
            "==================================================================================================\n",
            "Total params: 2534788 (9.67 MB)\n",
            "Trainable params: 276804 (1.06 MB)\n",
            "Non-trainable params: 2257984 (8.61 MB)\n",
            "__________________________________________________________________________________________________\n"
          ]
        }
      ]
    },
    {
      "cell_type": "code",
      "source": [
        "steps_per_epoch = len(train_generator)\n",
        "\n",
        "model.add(Dense(len(class_labels), activation='softmax'))\n",
        "model.compile(optimizer='adam', loss='categorical_crossentropy', metrics=['accuracy'])\n"
      ],
      "metadata": {
        "id": "jBILEgkzwMQm"
      },
      "execution_count": null,
      "outputs": []
    },
    {
      "cell_type": "code",
      "source": [
        "# Train the model\n",
        "history = model.fit(\n",
        "    train_generator,\n",
        "    batch_size=256,\n",
        "    epochs=10,\n",
        "    verbose=1,\n",
        "    steps_per_epoch=steps_per_epoch,\n",
        ")"
      ],
      "metadata": {
        "colab": {
          "base_uri": "https://localhost:8080/"
        },
        "id": "Bv9e0hCHwRk9",
        "outputId": "02c7938b-f696-4636-e61b-8d2e2f24ef8d"
      },
      "execution_count": null,
      "outputs": [
        {
          "output_type": "stream",
          "name": "stdout",
          "text": [
            "Epoch 1/10\n",
            "118/118 [==============================] - 221s 2s/step - loss: 0.8154 - accuracy: 0.8882\n",
            "Epoch 2/10\n",
            "118/118 [==============================] - 217s 2s/step - loss: 0.6411 - accuracy: 0.8882\n",
            "Epoch 3/10\n",
            "118/118 [==============================] - 216s 2s/step - loss: 0.5272 - accuracy: 0.8882\n",
            "Epoch 4/10\n",
            "118/118 [==============================] - 219s 2s/step - loss: 0.4597 - accuracy: 0.8882\n",
            "Epoch 5/10\n",
            "118/118 [==============================] - 216s 2s/step - loss: 0.4283 - accuracy: 0.8882\n",
            "Epoch 6/10\n",
            "118/118 [==============================] - 214s 2s/step - loss: 0.4172 - accuracy: 0.8882\n",
            "Epoch 7/10\n",
            "118/118 [==============================] - 216s 2s/step - loss: 0.4135 - accuracy: 0.8882\n",
            "Epoch 8/10\n",
            "118/118 [==============================] - 211s 2s/step - loss: 0.4121 - accuracy: 0.8882\n",
            "Epoch 9/10\n",
            "118/118 [==============================] - 206s 2s/step - loss: 0.4114 - accuracy: 0.8882\n",
            "Epoch 10/10\n",
            "118/118 [==============================] - 207s 2s/step - loss: 0.4111 - accuracy: 0.8882\n"
          ]
        }
      ]
    },
    {
      "cell_type": "code",
      "source": [
        "\n",
        "model.save(\"plant_disease_model.h5\")"
      ],
      "metadata": {
        "id": "2v_3eadU8dgI"
      },
      "execution_count": 71,
      "outputs": []
    },
    {
      "cell_type": "code",
      "source": [
        "loss,acc = model.evaluate(train_generator)\n",
        "print(\"Loss on Train data:\",loss)\n",
        "print(\"Accuracy on Train data:\",acc)"
      ],
      "metadata": {
        "colab": {
          "base_uri": "https://localhost:8080/"
        },
        "id": "E13kM1spj0ub",
        "outputId": "451555fd-07b0-4643-9bac-994091f94511"
      },
      "execution_count": null,
      "outputs": [
        {
          "output_type": "stream",
          "name": "stdout",
          "text": [
            "118/118 [==============================] - 209s 2s/step - loss: 0.4109 - accuracy: 0.8882\n",
            "Loss on Train data: 0.4109236001968384\n",
            "Accuracy on Train data: 0.8881526589393616\n"
          ]
        }
      ]
    },
    {
      "cell_type": "code",
      "source": [
        "acc = history.history[\"accuracy\"]\n",
        "loss = history.history[\"loss\"]"
      ],
      "metadata": {
        "id": "XpKtd5RRj4ml"
      },
      "execution_count": 70,
      "outputs": []
    },
    {
      "cell_type": "code",
      "source": [
        "acc = history.history[\"accuracy\"]\n",
        "loss = history.history[\"loss\"]\n",
        "\n",
        "EPOCHS = len(acc)\n",
        "\n",
        "plt.figure(figsize=(12, 6))\n",
        "plt.subplot(1, 2, 1)\n",
        "plt.plot(range(1, EPOCHS + 1), acc, label=\"Training Accuracy\")\n",
        "plt.legend(loc=\"lower right\")\n",
        "plt.title(\"Training Accuracy\")\n",
        "\n",
        "plt.subplot(1, 2, 2)\n",
        "plt.plot(range(1, EPOCHS + 1), loss, label=\"Training Loss\")\n",
        "plt.legend(loc=\"upper right\")\n",
        "plt.title(\"Training Loss\")\n",
        "plt.show()\n"
      ],
      "metadata": {
        "colab": {
          "base_uri": "https://localhost:8080/",
          "height": 412
        },
        "id": "PGom-Stem1js",
        "outputId": "9057c0fc-601a-47db-ff11-f0f6d7831d74"
      },
      "execution_count": 69,
      "outputs": [
        {
          "output_type": "display_data",
          "data": {
            "text/plain": [
              "<Figure size 1200x600 with 2 Axes>"
            ],
            "image/png": "[encoded data removed]"
          },
          "metadata": {}
        }
      ]
    },
    {
      "cell_type": "code",
      "source": [
        "\n",
        "class_labels = ['corn_leaf', 'rice_leaf_diseases', 'wheat_leaf']\n",
        "disease_labels = {\n",
        "    'corn_leaf': ['Blight', 'Common_Rust', 'Gray_Leaf_Spot', 'Healthy'],\n",
        "    'rice_leaf_diseases': ['Bacterial leaf blight', 'Brown spot', 'Leaf smut'],\n",
        "    'wheat_leaf': ['wheat_leaf_Healthy', 'wheat_leaf_septoria', 'wheat_leaf_stripe_rust']\n",
        "}\n"
      ],
      "metadata": {
        "id": "QT4qHHtuP5mR"
      },
      "execution_count": 64,
      "outputs": []
    },
    {
      "cell_type": "code",
      "source": [
        "\n",
        "predictions = combined_model.predict([img_array, img_array])\n",
        "class_probabilities = predictions[0][0]\n",
        "percentage_affected = predictions[0][1]\n",
        "\n",
        "class_index = np.argmax(class_probabilities)\n",
        "predicted_crop_type = class_labels[class_index]\n",
        "\n",
        "\n",
        "is_affected = \"Affected\" if percentage_affected > 0.5 else \"Not Affected\"\n",
        "\n",
        "\n",
        "print(\"Predicted Crop Type:\", predicted_crop_type)\n",
        "print(\"Affected Status:\", is_affected)\n",
        "print(\"Class Probabilities:\", class_probabilities)\n",
        "print(\"Predicted Percentage of Leaf Affected:\", percentage_affected)\n"
      ],
      "metadata": {
        "colab": {
          "base_uri": "https://localhost:8080/"
        },
        "id": "48UeJ_4HoBjj",
        "outputId": "57c8b365-1122-4a92-9f75-93cdb1b0437a"
      },
      "execution_count": 67,
      "outputs": [
        {
          "output_type": "stream",
          "name": "stdout",
          "text": [
            "1/1 [==============================] - 0s 70ms/step\n",
            "Predicted Crop Type: corn_leaf\n",
            "Affected Status: Not Affected\n",
            "Class Probabilities: 0.5241344\n",
            "Predicted Percentage of Leaf Affected: 0.41701546\n"
          ]
        }
      ]
    },
    {
      "cell_type": "code",
      "source": [
        "from google.colab import files\n",
        "\n",
        "# Download the saved model\n",
        "files.download(\"plant_disease_model.h5\")\n"
      ],
      "metadata": {
        "colab": {
          "base_uri": "https://localhost:8080/",
          "height": 17
        },
        "id": "kHEhwp7zXP08",
        "outputId": "4f4e8f40-2ce3-44df-d908-8c9e35eb8b85"
      },
      "execution_count": 72,
      "outputs": [
        {
          "output_type": "display_data",
          "data": {
            "text/plain": [
              "<IPython.core.display.Javascript object>"
            ],
            "application/javascript": [
              "\n",
              "    async function download(id, filename, size) {\n",
              "      if (!google.colab.kernel.accessAllowed) {\n",
              "        return;\n",
              "      }\n",
              "      const div = document.createElement('div');\n",
              "      const label = document.createElement('label');\n",
              "      label.textContent = `Downloading \"${filename}\": `;\n",
              "      div.appendChild(label);\n",
              "      const progress = document.createElement('progress');\n",
              "      progress.max = size;\n",
              "      div.appendChild(progress);\n",
              "      document.body.appendChild(div);\n",
              "\n",
              "      const buffers = [];\n",
              "      let downloaded = 0;\n",
              "\n",
              "      const channel = await google.colab.kernel.comms.open(id);\n",
              "      // Send a message to notify the kernel that we're ready.\n",
              "      channel.send({})\n",
              "\n",
              "      for await (const message of channel.messages) {\n",
              "        // Send a message to notify the kernel that we're ready.\n",
              "        channel.send({})\n",
              "        if (message.buffers) {\n",
              "          for (const buffer of message.buffers) {\n",
              "            buffers.push(buffer);\n",
              "            downloaded += buffer.byteLength;\n",
              "            progress.value = downloaded;\n",
              "          }\n",
              "        }\n",
              "      }\n",
              "      const blob = new Blob(buffers, {type: 'application/binary'});\n",
              "      const a = document.createElement('a');\n",
              "      a.href = window.URL.createObjectURL(blob);\n",
              "      a.download = filename;\n",
              "      div.appendChild(a);\n",
              "      a.click();\n",
              "      div.remove();\n",
              "    }\n",
              "  "
            ]
          },
          "metadata": {}
        },
        {
          "output_type": "display_data",
          "data": {
            "text/plain": [
              "<IPython.core.display.Javascript object>"
            ],
            "application/javascript": [
              "download(\"download_2c23e406-1c80-4aee-8ea0-34cf4b060c03\", \"plant_disease_model.h5\", 11073264)"
            ]
          },
          "metadata": {}
        }
      ]
    }
  ]
}